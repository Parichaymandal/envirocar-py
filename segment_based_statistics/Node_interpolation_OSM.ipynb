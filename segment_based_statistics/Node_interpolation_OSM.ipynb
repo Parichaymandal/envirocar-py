{
 "cells": [
  {
   "cell_type": "code",
   "execution_count": 1,
   "metadata": {},
   "outputs": [
    {
     "name": "stdout",
     "output_type": "stream",
     "text": [
      "377.2015376426772\n",
      "1387.6714308509777\n",
      "877.7918743423409\n",
      "-5.355390095513542\n"
     ]
    }
   ],
   "source": [
    "import math\n",
    "\n",
    "# f1-map matched point on OSM (x1,y1,s1,t1)\n",
    "# f2-map matched point on OSM (x2,y2,s2,t2)\n",
    "# p-osm node to be interpolated (x,y,s,t)\n",
    "\n",
    "def InterpolateToOSMNodes(x1, y1, s1, t1, x2, y2, s2, t2, x, y):# s=None, t=None)\n",
    "    # d1 distance between point f1 to p\n",
    "    d1 = math.sqrt(pow((x1-x),2) + pow((y1-y),2))\n",
    "    print(d1)\n",
    "    \n",
    "    # d2 distance between point f2 to p \n",
    "    d2 = math.sqrt(pow((x2-x),2) + pow((y2-y),2))\n",
    "    print(d2)\n",
    "    \n",
    "    if((d1 or d2) < 50):  # d1 or d2 less than value 50m, same point will be assigned to p\n",
    "        if(d1 < d2):\n",
    "            s = s1\n",
    "            d = d1\n",
    "            t = t1\n",
    "        else:\n",
    "            s = s2\n",
    "            d = d2\n",
    "            t = t2\n",
    "    elif ((d1 or d2) < 200):  #  d1 or d2 less than 200m, assume constant speed but time is different t = tx\n",
    "        if(d1 < d2):\n",
    "            s = s1\n",
    "            d = d1\n",
    "            tx = t1\n",
    "        else:\n",
    "            s = s2\n",
    "            d = d2\n",
    "            tx = t2\n",
    "        # using s = ut \n",
    "        tx = (d/s)-tx\n",
    "    else: # derive speed and time from two known mapped FCD points\n",
    "        #Applying v=u+at and s=(1/2)(u+v)t for two known points and the unknown points\n",
    "        T = t2 - t1\n",
    "        a = T\n",
    "        b = ((T*s1)+(T*s2)-(2*d1)-(2*d2))\n",
    "        c = ((T*s1*s2)-(2*d1*s2)-(2*d1*s2)-(2*d2*s1))\n",
    "        \n",
    "        discriminant = (pow(b,2)-(4*a*c))\n",
    "             \n",
    "        s_pos = ((-b)+math.sqrt(discriminant))/(2*a)\n",
    "        s_neg = ((-b)-math.sqrt(discriminant))/(2*a)\n",
    "        \n",
    "        print(s_pos)\n",
    "        print(s_neg)\n",
    "         \n",
    "\n",
    "InterpolateToOSMNodes(300,250,3,4,505,1306,7,8,9,10)"
   ]
  },
  {
   "cell_type": "code",
   "execution_count": null,
   "metadata": {},
   "outputs": [],
   "source": []
  },
  {
   "cell_type": "code",
   "execution_count": null,
   "metadata": {},
   "outputs": [],
   "source": []
  },
  {
   "cell_type": "code",
   "execution_count": null,
   "metadata": {},
   "outputs": [],
   "source": []
  },
  {
   "cell_type": "code",
   "execution_count": null,
   "metadata": {},
   "outputs": [],
   "source": []
  },
  {
   "cell_type": "code",
   "execution_count": null,
   "metadata": {},
   "outputs": [],
   "source": []
  },
  {
   "cell_type": "code",
   "execution_count": null,
   "metadata": {},
   "outputs": [],
   "source": []
  },
  {
   "cell_type": "code",
   "execution_count": null,
   "metadata": {},
   "outputs": [],
   "source": []
  }
 ],
 "metadata": {
  "kernelspec": {
   "display_name": "envirocar",
   "language": "python",
   "name": "envirocar"
  },
  "language_info": {
   "codemirror_mode": {
    "name": "ipython",
    "version": 3
   },
   "file_extension": ".py",
   "mimetype": "text/x-python",
   "name": "python",
   "nbconvert_exporter": "python",
   "pygments_lexer": "ipython3",
   "version": "3.6.10"
  }
 },
 "nbformat": 4,
 "nbformat_minor": 4
}
